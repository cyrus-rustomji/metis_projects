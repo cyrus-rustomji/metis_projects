{
 "cells": [
  {
   "cell_type": "code",
   "execution_count": 1,
   "metadata": {},
   "outputs": [],
   "source": [
    "import pandas as pd\n",
    "import numpy as np\n",
    "import matplotlib.pyplot as plt\n",
    "\n",
    "%matplotlib inline"
   ]
  },
  {
   "cell_type": "code",
   "execution_count": 2,
   "metadata": {},
   "outputs": [
    {
     "data": {
      "text/html": [
       "<div>\n",
       "<style>\n",
       "    .dataframe thead tr:only-child th {\n",
       "        text-align: right;\n",
       "    }\n",
       "\n",
       "    .dataframe thead th {\n",
       "        text-align: left;\n",
       "    }\n",
       "\n",
       "    .dataframe tbody tr th {\n",
       "        vertical-align: top;\n",
       "    }\n",
       "</style>\n",
       "<table border=\"1\" class=\"dataframe\">\n",
       "  <thead>\n",
       "    <tr style=\"text-align: right;\">\n",
       "      <th></th>\n",
       "      <th>group_name</th>\n",
       "      <th>yes_rsvp_count</th>\n",
       "      <th>latitude</th>\n",
       "      <th>longitude</th>\n",
       "      <th>station</th>\n",
       "      <th>distance</th>\n",
       "    </tr>\n",
       "  </thead>\n",
       "  <tbody>\n",
       "    <tr>\n",
       "      <th>95</th>\n",
       "      <td>NYC Ruby Women</td>\n",
       "      <td>36</td>\n",
       "      <td>40.708881</td>\n",
       "      <td>-74.011429</td>\n",
       "      <td>FULTON ST</td>\n",
       "      <td>0.004887</td>\n",
       "    </tr>\n",
       "    <tr>\n",
       "      <th>73</th>\n",
       "      <td>Women of Wearables New York Chapter (W.O.W NY)</td>\n",
       "      <td>8</td>\n",
       "      <td>40.752499</td>\n",
       "      <td>-74.001053</td>\n",
       "      <td>TIMES SQ-42 ST</td>\n",
       "      <td>0.013842</td>\n",
       "    </tr>\n",
       "    <tr>\n",
       "      <th>88</th>\n",
       "      <td>Build with Code - New York City</td>\n",
       "      <td>58</td>\n",
       "      <td>40.723171</td>\n",
       "      <td>-73.997177</td>\n",
       "      <td>14 ST-UNION SQ</td>\n",
       "      <td>0.013583</td>\n",
       "    </tr>\n",
       "    <tr>\n",
       "      <th>76</th>\n",
       "      <td>ChickTech New York</td>\n",
       "      <td>13</td>\n",
       "      <td>40.737667</td>\n",
       "      <td>-73.992920</td>\n",
       "      <td>14 ST-UNION SQ</td>\n",
       "      <td>0.004217</td>\n",
       "    </tr>\n",
       "    <tr>\n",
       "      <th>127</th>\n",
       "      <td>West Bronx Women Support Group</td>\n",
       "      <td>1</td>\n",
       "      <td>40.863548</td>\n",
       "      <td>-73.889366</td>\n",
       "      <td>BEDFORD PK BLVD</td>\n",
       "      <td>0.009888</td>\n",
       "    </tr>\n",
       "    <tr>\n",
       "      <th>49</th>\n",
       "      <td>Women Of Cherish, Embracing Women Within.</td>\n",
       "      <td>1</td>\n",
       "      <td>40.750469</td>\n",
       "      <td>-73.980606</td>\n",
       "      <td>42 ST-PORT AUTH</td>\n",
       "      <td>0.011406</td>\n",
       "    </tr>\n",
       "    <tr>\n",
       "      <th>51</th>\n",
       "      <td>NYC Lesbian Social and Travel Group</td>\n",
       "      <td>22</td>\n",
       "      <td>40.750416</td>\n",
       "      <td>-73.987167</td>\n",
       "      <td>42 ST-PORT AUTH</td>\n",
       "      <td>0.007355</td>\n",
       "    </tr>\n",
       "    <tr>\n",
       "      <th>99</th>\n",
       "      <td>WAMVentures: Women &amp; Diverse Founders</td>\n",
       "      <td>1</td>\n",
       "      <td>40.714432</td>\n",
       "      <td>-74.006104</td>\n",
       "      <td>FULTON ST</td>\n",
       "      <td>0.005038</td>\n",
       "    </tr>\n",
       "    <tr>\n",
       "      <th>44</th>\n",
       "      <td>The Women Tribe</td>\n",
       "      <td>1</td>\n",
       "      <td>40.748219</td>\n",
       "      <td>-73.986435</td>\n",
       "      <td>42 ST-PORT AUTH</td>\n",
       "      <td>0.009670</td>\n",
       "    </tr>\n",
       "    <tr>\n",
       "      <th>70</th>\n",
       "      <td>The Women Tribe</td>\n",
       "      <td>1</td>\n",
       "      <td>40.748219</td>\n",
       "      <td>-73.986435</td>\n",
       "      <td>TIMES SQ-42 ST</td>\n",
       "      <td>0.007150</td>\n",
       "    </tr>\n",
       "  </tbody>\n",
       "</table>\n",
       "</div>"
      ],
      "text/plain": [
       "                                         group_name  yes_rsvp_count  \\\n",
       "95                                   NYC Ruby Women              36   \n",
       "73   Women of Wearables New York Chapter (W.O.W NY)               8   \n",
       "88                  Build with Code - New York City              58   \n",
       "76                               ChickTech New York              13   \n",
       "127                  West Bronx Women Support Group               1   \n",
       "49        Women Of Cherish, Embracing Women Within.               1   \n",
       "51              NYC Lesbian Social and Travel Group              22   \n",
       "99            WAMVentures: Women & Diverse Founders               1   \n",
       "44                                  The Women Tribe               1   \n",
       "70                                  The Women Tribe               1   \n",
       "\n",
       "      latitude  longitude          station  distance  \n",
       "95   40.708881 -74.011429        FULTON ST  0.004887  \n",
       "73   40.752499 -74.001053   TIMES SQ-42 ST  0.013842  \n",
       "88   40.723171 -73.997177   14 ST-UNION SQ  0.013583  \n",
       "76   40.737667 -73.992920   14 ST-UNION SQ  0.004217  \n",
       "127  40.863548 -73.889366  BEDFORD PK BLVD  0.009888  \n",
       "49   40.750469 -73.980606  42 ST-PORT AUTH  0.011406  \n",
       "51   40.750416 -73.987167  42 ST-PORT AUTH  0.007355  \n",
       "99   40.714432 -74.006104        FULTON ST  0.005038  \n",
       "44   40.748219 -73.986435  42 ST-PORT AUTH  0.009670  \n",
       "70   40.748219 -73.986435   TIMES SQ-42 ST  0.007150  "
      ]
     },
     "execution_count": 2,
     "metadata": {},
     "output_type": "execute_result"
    }
   ],
   "source": [
    "meetup_data = pd.read_csv('meetup_data.csv')\n",
    "meetup_data.sample(10)"
   ]
  },
  {
   "cell_type": "code",
   "execution_count": 3,
   "metadata": {},
   "outputs": [],
   "source": [
    "tech_groups = ['NYC Women in Machine Learning & Data Science','NYC Fintech Women',\n",
    "       'NYC Women Who Go', 'League of Women Coders',\n",
    "       'Women Investing in Women  Entrepreneurs', 'Women Who Code NYC',\n",
    "       'Women in Agile New York City',\n",
    "       'Women in Hyper Growth Companies',\n",
    "       'Techfest Club: the monthly event for women in tech',\n",
    "       'Women  Empowerment, Women Entrepreneurs, Women In Business',\n",
    "       'Write/Speak/Code NYC', 'NY Women in Tech',\n",
    "       'Women of Wearables New York Chapter (W.O.W NY)',\n",
    "       \"Women's Empowerment Group New York\", 'Girl Develop It NYC',\n",
    "       'The Business of WE (Women Entrepreneurs)',\n",
    "       'Women Entrepreneur Resource & Educational Community-New York',\n",
    "       'Empowering Women in Business™ (EWB)', 'NYC-Women in STEM',\n",
    "       'Women in Tech Sales New York',\n",
    "       'New York Women in Crypto & Blockchain Investment Club Meetup',\n",
    "       'ChickTech New York',\n",
    "       'Build with Code - New York City', 'Women Success Strategies',\n",
    "       'NYC Ruby Women',\n",
    "       \"wimlink  women's network for technology and media pros\",\n",
    "       'WAMVentures: Women & Diverse Founders',\n",
    "       'NYC Chapter: ELEVACAO Women Tech Founders',\n",
    "       'New York City Professional Women Meetup',\n",
    "       'Black Software Engineers of NYC']\n",
    "meetup_data = meetup_data[meetup_data.group_name.isin(tech_groups)]"
   ]
  },
  {
   "cell_type": "code",
   "execution_count": 4,
   "metadata": {},
   "outputs": [
    {
     "data": {
      "text/plain": [
       "<matplotlib.legend.Legend at 0x7fe202596b00>"
      ]
     },
     "execution_count": 4,
     "metadata": {},
     "output_type": "execute_result"
    },
    {
     "data": {
      "image/png": "[encoded data removed]",
      "text/plain": [
       "<matplotlib.figure.Figure at 0x7fe202554198>"
      ]
     },
     "metadata": {},
     "output_type": "display_data"
    }
   ],
   "source": [
    "sum_by_station = meetup_data.groupby('station').sum()\n",
    "sum_by_station.sort_values('yes_rsvp_count', ascending=True)[['yes_rsvp_count']].plot(kind='barh', figsize=(20, 10), fontsize=20)\n",
    "plt.legend(prop={'size': 20})"
   ]
  },
  {
   "cell_type": "code",
   "execution_count": 5,
   "metadata": {},
   "outputs": [
    {
     "data": {
      "text/plain": [
       "array(['NYC Women Who Go', 'League of Women Coders',\n",
       "       'Women in Agile New York City', 'Women in Hyper Growth Companies',\n",
       "       'Techfest Club: the monthly event for women in tech',\n",
       "       'Women of Wearables New York Chapter (W.O.W NY)',\n",
       "       'Girl Develop It NYC', 'The Business of WE (Women Entrepreneurs)',\n",
       "       'Women Entrepreneur Resource & Educational Community-New York',\n",
       "       'Empowering Women in Business™ (EWB)', 'NYC-Women in STEM',\n",
       "       'Women in Tech Sales New York',\n",
       "       'New York Women in Crypto & Blockchain Investment Club Meetup',\n",
       "       'ChickTech New York', 'Build with Code - New York City',\n",
       "       'Women Success Strategies', 'NYC Ruby Women', 'NYC Fintech Women',\n",
       "       'WAMVentures: Women & Diverse Founders',\n",
       "       'New York City Professional Women Meetup'], dtype=object)"
      ]
     },
     "execution_count": 5,
     "metadata": {},
     "output_type": "execute_result"
    }
   ],
   "source": [
    "meetup_data['group_name'].unique()"
   ]
  },
  {
   "cell_type": "code",
   "execution_count": null,
   "metadata": {},
   "outputs": [],
   "source": []
  }
 ],
 "metadata": {
  "kernelspec": {
   "display_name": "Python [default]",
   "language": "python",
   "name": "python3"
  },
  "language_info": {
   "codemirror_mode": {
    "name": "ipython",
    "version": 3
   },
   "file_extension": ".py",
   "mimetype": "text/x-python",
   "name": "python",
   "nbconvert_exporter": "python",
   "pygments_lexer": "ipython3",
   "version": "3.6.3"
  }
 },
 "nbformat": 4,
 "nbformat_minor": 2
}
