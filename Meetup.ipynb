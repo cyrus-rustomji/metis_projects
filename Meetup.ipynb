{
 "cells": [
  {
   "cell_type": "code",
   "execution_count": 1,
   "metadata": {},
   "outputs": [],
   "source": [
    "import pandas as pd\n",
    "import numpy as np\n",
    "import matplotlib.pyplot as plt\n",
    "\n",
    "%matplotlib inline"
   ]
  },
  {
   "cell_type": "code",
   "execution_count": 3,
   "metadata": {},
   "outputs": [
    {
     "data": {
      "text/html": [
       "<div>\n",
       "<style>\n",
       "    .dataframe thead tr:only-child th {\n",
       "        text-align: right;\n",
       "    }\n",
       "\n",
       "    .dataframe thead th {\n",
       "        text-align: left;\n",
       "    }\n",
       "\n",
       "    .dataframe tbody tr th {\n",
       "        vertical-align: top;\n",
       "    }\n",
       "</style>\n",
       "<table border=\"1\" class=\"dataframe\">\n",
       "  <thead>\n",
       "    <tr style=\"text-align: right;\">\n",
       "      <th></th>\n",
       "      <th>group_name</th>\n",
       "      <th>yes_rsvp_count</th>\n",
       "      <th>latitude</th>\n",
       "      <th>longitude</th>\n",
       "      <th>station</th>\n",
       "    </tr>\n",
       "  </thead>\n",
       "  <tbody>\n",
       "    <tr>\n",
       "      <th>259</th>\n",
       "      <td>NYC Raw Vegan Singles</td>\n",
       "      <td>1</td>\n",
       "      <td>40.685780</td>\n",
       "      <td>-73.964577</td>\n",
       "      <td>BEDFORD PK BLVD</td>\n",
       "    </tr>\n",
       "    <tr>\n",
       "      <th>100</th>\n",
       "      <td>Women without children (30's &amp; 40's) of NYC</td>\n",
       "      <td>22</td>\n",
       "      <td>NaN</td>\n",
       "      <td>NaN</td>\n",
       "      <td>23 ST</td>\n",
       "    </tr>\n",
       "    <tr>\n",
       "      <th>1</th>\n",
       "      <td>NYC Fintech Women</td>\n",
       "      <td>23</td>\n",
       "      <td>NaN</td>\n",
       "      <td>NaN</td>\n",
       "      <td>34 ST-PENN STA</td>\n",
       "    </tr>\n",
       "    <tr>\n",
       "      <th>219</th>\n",
       "      <td>Girlfriends in New York</td>\n",
       "      <td>68</td>\n",
       "      <td>NaN</td>\n",
       "      <td>NaN</td>\n",
       "      <td>14 ST-UNION SQ</td>\n",
       "    </tr>\n",
       "    <tr>\n",
       "      <th>50</th>\n",
       "      <td>Women Entrepreneur Resource &amp; Educational Comm...</td>\n",
       "      <td>4</td>\n",
       "      <td>40.760540</td>\n",
       "      <td>-73.975319</td>\n",
       "      <td>GRD CNTRL-42 ST</td>\n",
       "    </tr>\n",
       "    <tr>\n",
       "      <th>292</th>\n",
       "      <td>West Bronx Women Support Group</td>\n",
       "      <td>1</td>\n",
       "      <td>40.863548</td>\n",
       "      <td>-73.889366</td>\n",
       "      <td>BEDFORD PK BLVD</td>\n",
       "    </tr>\n",
       "    <tr>\n",
       "      <th>138</th>\n",
       "      <td>Women Entrepreneur Resource &amp; Educational Comm...</td>\n",
       "      <td>4</td>\n",
       "      <td>40.760540</td>\n",
       "      <td>-73.975319</td>\n",
       "      <td>42 ST-PORT AUTH</td>\n",
       "    </tr>\n",
       "    <tr>\n",
       "      <th>109</th>\n",
       "      <td>Women About in NYC &amp; Westchester</td>\n",
       "      <td>5</td>\n",
       "      <td>NaN</td>\n",
       "      <td>NaN</td>\n",
       "      <td>23 ST</td>\n",
       "    </tr>\n",
       "    <tr>\n",
       "      <th>264</th>\n",
       "      <td>NYC Raw Vegan Singles</td>\n",
       "      <td>2</td>\n",
       "      <td>40.685780</td>\n",
       "      <td>-73.964577</td>\n",
       "      <td>BEDFORD PK BLVD</td>\n",
       "    </tr>\n",
       "    <tr>\n",
       "      <th>110</th>\n",
       "      <td>NY Women in Tech</td>\n",
       "      <td>4</td>\n",
       "      <td>NaN</td>\n",
       "      <td>NaN</td>\n",
       "      <td>23 ST</td>\n",
       "    </tr>\n",
       "  </tbody>\n",
       "</table>\n",
       "</div>"
      ],
      "text/plain": [
       "                                            group_name  yes_rsvp_count  \\\n",
       "259                              NYC Raw Vegan Singles               1   \n",
       "100        Women without children (30's & 40's) of NYC              22   \n",
       "1                                    NYC Fintech Women              23   \n",
       "219                            Girlfriends in New York              68   \n",
       "50   Women Entrepreneur Resource & Educational Comm...               4   \n",
       "292                     West Bronx Women Support Group               1   \n",
       "138  Women Entrepreneur Resource & Educational Comm...               4   \n",
       "109                   Women About in NYC & Westchester               5   \n",
       "264                              NYC Raw Vegan Singles               2   \n",
       "110                                   NY Women in Tech               4   \n",
       "\n",
       "      latitude  longitude          station  \n",
       "259  40.685780 -73.964577  BEDFORD PK BLVD  \n",
       "100        NaN        NaN            23 ST  \n",
       "1          NaN        NaN   34 ST-PENN STA  \n",
       "219        NaN        NaN   14 ST-UNION SQ  \n",
       "50   40.760540 -73.975319  GRD CNTRL-42 ST  \n",
       "292  40.863548 -73.889366  BEDFORD PK BLVD  \n",
       "138  40.760540 -73.975319  42 ST-PORT AUTH  \n",
       "109        NaN        NaN            23 ST  \n",
       "264  40.685780 -73.964577  BEDFORD PK BLVD  \n",
       "110        NaN        NaN            23 ST  "
      ]
     },
     "execution_count": 3,
     "metadata": {},
     "output_type": "execute_result"
    }
   ],
   "source": [
    "meetup_data = pd.read_csv('meetup_data.csv')\n",
    "meetup_data.sample(10)"
   ]
  },
  {
   "cell_type": "code",
   "execution_count": 9,
   "metadata": {},
   "outputs": [],
   "source": [
    "tech_groups = ['NYC Women in Machine Learning & Data Science','NYC Fintech Women',\n",
    "       'NYC Women Who Go', 'League of Women Coders',\n",
    "       'Women Investing in Women  Entrepreneurs', 'Women Who Code NYC',\n",
    "       'Women in Agile New York City',\n",
    "       'Women in Hyper Growth Companies',\n",
    "       'Techfest Club: the monthly event for women in tech',\n",
    "       'Women  Empowerment, Women Entrepreneurs, Women In Business',\n",
    "       'Write/Speak/Code NYC', 'NY Women in Tech',\n",
    "       'Women of Wearables New York Chapter (W.O.W NY)',\n",
    "       \"Women's Empowerment Group New York\", 'Girl Develop It NYC',\n",
    "       'The Business of WE (Women Entrepreneurs)',\n",
    "       'Women Entrepreneur Resource & Educational Community-New York',\n",
    "       'Empowering Women in Business™ (EWB)', 'NYC-Women in STEM',\n",
    "       'Women in Tech Sales New York',\n",
    "       'New York Women in Crypto & Blockchain Investment Club Meetup',\n",
    "       'ChickTech New York',\n",
    "       'Build with Code - New York City', 'Women Success Strategies',\n",
    "       'NYC Ruby Women',\n",
    "       \"wimlink  women's network for technology and media pros\",\n",
    "       'WAMVentures: Women & Diverse Founders',\n",
    "       'NYC Chapter: ELEVACAO Women Tech Founders',\n",
    "       'New York City Professional Women Meetup',\n",
    "       'Black Software Engineers of NYC']\n",
    "meetup_data = meetup_data[meetup_data.group_name.isin(tech_groups)]"
   ]
  },
  {
   "cell_type": "code",
   "execution_count": 21,
   "metadata": {},
   "outputs": [
    {
     "data": {
      "text/plain": [
       "<matplotlib.legend.Legend at 0x7f900db59128>"
      ]
     },
     "execution_count": 21,
     "metadata": {},
     "output_type": "execute_result"
    },
    {
     "data": {
      "image/png": "[encoded data removed]",
      "text/plain": [
       "<matplotlib.figure.Figure at 0x7f900daee470>"
      ]
     },
     "metadata": {},
     "output_type": "display_data"
    }
   ],
   "source": [
    "sum_by_station = meetup_data.groupby('station').sum()\n",
    "sum_by_station.sort_values('yes_rsvp_count', ascending=True)[['yes_rsvp_count']].plot(kind='barh', figsize=(20, 10), fontsize=20)\n",
    "plt.legend(prop={'size': 20})"
   ]
  },
  {
   "cell_type": "code",
   "execution_count": 11,
   "metadata": {},
   "outputs": [
    {
     "data": {
      "text/plain": [
       "array(['NYC Women in Machine Learning & Data Science', 'NYC Fintech Women',\n",
       "       'NYC Women Who Go', 'League of Women Coders',\n",
       "       'Women Investing in Women  Entrepreneurs', 'Women Who Code NYC',\n",
       "       'Women in Agile New York City', 'Women in Hyper Growth Companies',\n",
       "       'Techfest Club: the monthly event for women in tech',\n",
       "       'Women  Empowerment, Women Entrepreneurs, Women In Business',\n",
       "       'Write/Speak/Code NYC', 'NY Women in Tech',\n",
       "       'Women of Wearables New York Chapter (W.O.W NY)',\n",
       "       \"Women's Empowerment Group New York\", 'Girl Develop It NYC',\n",
       "       'The Business of WE (Women Entrepreneurs)',\n",
       "       'Women Entrepreneur Resource & Educational Community-New York',\n",
       "       'Empowering Women in Business™ (EWB)', 'NYC-Women in STEM',\n",
       "       'Women in Tech Sales New York',\n",
       "       'New York Women in Crypto & Blockchain Investment Club Meetup',\n",
       "       'ChickTech New York', 'Build with Code - New York City',\n",
       "       'Women Success Strategies', 'NYC Ruby Women',\n",
       "       \"wimlink  women's network for technology and media pros\",\n",
       "       'WAMVentures: Women & Diverse Founders',\n",
       "       'NYC Chapter: ELEVACAO Women Tech Founders',\n",
       "       'New York City Professional Women Meetup',\n",
       "       'Black Software Engineers of NYC'], dtype=object)"
      ]
     },
     "execution_count": 11,
     "metadata": {},
     "output_type": "execute_result"
    }
   ],
   "source": [
    "meetup_data['group_name'].unique()"
   ]
  },
  {
   "cell_type": "code",
   "execution_count": null,
   "metadata": {},
   "outputs": [],
   "source": []
  }
 ],
 "metadata": {
  "kernelspec": {
   "display_name": "Python [default]",
   "language": "python",
   "name": "python3"
  },
  "language_info": {
   "codemirror_mode": {
    "name": "ipython",
    "version": 3
   },
   "file_extension": ".py",
   "mimetype": "text/x-python",
   "name": "python",
   "nbconvert_exporter": "python",
   "pygments_lexer": "ipython3",
   "version": "3.6.3"
  }
 },
 "nbformat": 4,
 "nbformat_minor": 2
}
